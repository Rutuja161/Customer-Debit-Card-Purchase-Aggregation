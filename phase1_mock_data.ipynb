{
 "cells": [
  {
   "cell_type": "markdown",
   "id": "7e3c032b",
   "metadata": {},
   "source": [
    "# Generate Mock transaction data"
   ]
  },
  {
   "cell_type": "code",
   "execution_count": 1,
   "id": "e606dd96",
   "metadata": {},
   "outputs": [
    {
     "name": "stdout",
     "output_type": "stream",
     "text": [
      "Generated mock transaction data transaction_data\\transactions_20240806.csv and saved in CSV file\n"
     ]
    }
   ],
   "source": [
    "import csv\n",
    "import os\n",
    "from random import randint, choice\n",
    "from datetime import datetime\n",
    "\n",
    "# Define customer and bank names\n",
    "customer_names = [\"John Doe\", \"Jane Smith\", \"Michael Brown\", \"Sarah Lee\", \"David Miller\"]\n",
    "bank_names = [\"AIB\", \"Bank of Ireland\", \"Bank of America\", \"Wells Fargo\", \"PNC\"]\n",
    "\n",
    "# Define debit card types\n",
    "card_types = [\"Visa\", \"Mastercard\"]\n",
    "\n",
    "# Define number of transactions per day\n",
    "transactions_per_day = 10\n",
    "\n",
    "# Create a dictionary to store customer information\n",
    "customer_info = {}\n",
    "\n",
    "# Define the current date and date string for the CSV file\n",
    "current_date = datetime.now().date()\n",
    "date_str = current_date.strftime(\"%Y%m%d\")\n",
    "\n",
    "# Initialize a list to store transactions\n",
    "transactions = []\n",
    "\n",
    "# Generate transactions\n",
    "for _ in range(transactions_per_day):\n",
    "    customer_name = choice(customer_names)\n",
    "    if customer_name not in customer_info:\n",
    "        # Generate card number and bank for new customer\n",
    "        card_number = f\"{randint(1000, 9999)}-{randint(1000, 9999)}-{randint(1000, 9999)}-{randint(1000, 9999)}\"\n",
    "        bank_name = choice(bank_names)\n",
    "        customer_info[customer_name] = {\n",
    "            \"customer_id\": randint(1000000000, 9999999999),  # 10-digit customer ID\n",
    "            \"debit_card_number\": card_number,\n",
    "            \"debit_card_type\": choice(card_types),\n",
    "            \"bank_name\": bank_name,\n",
    "        }\n",
    "    \n",
    "    # Use retrieved information and add customer name\n",
    "    transaction_data = customer_info[customer_name].copy()\n",
    "    transaction_data[\"name\"] = customer_name\n",
    "    transaction_date = str(current_date)\n",
    "    amount = round(randint(10, 100) + randint(0, 99) / 100, 2)  # Up to 2 decimal places\n",
    "    transaction_data[\"transaction_date\"] = transaction_date\n",
    "    transaction_data[\"amount_spend\"] = amount\n",
    "    transactions.append(transaction_data)\n",
    "\n",
    "# Define the directory and CSV file name\n",
    "directory = 'transaction_data'\n",
    "if not os.path.exists(directory):\n",
    "    os.makedirs(directory)\n",
    "filename = os.path.join(directory, f\"transactions_{date_str}.csv\")\n",
    "\n",
    "# Write transactions to CSV file\n",
    "with open(filename, \"w\", newline=\"\") as csvfile:\n",
    "    writer = csv.DictWriter(csvfile, fieldnames=[\"customer_id\", \"name\", \"debit_card_number\", \"debit_card_type\",\n",
    "                                                  \"bank_name\", \"transaction_date\", \"amount_spend\"])\n",
    "    writer.writeheader()\n",
    "    writer.writerows(transactions)\n",
    "\n",
    "print(f\"Generated mock transaction data {filename} and saved in CSV file\")"
   ]
  },
  {
   "cell_type": "code",
   "execution_count": 2,
   "id": "dcbb9aa3",
   "metadata": {},
   "outputs": [
    {
     "name": "stdout",
     "output_type": "stream",
     "text": [
      "Defaulting to user installation because normal site-packages is not writeable\n",
      "Requirement already satisfied: boto3 in c:\\users\\rutuja\\appdata\\roaming\\python\\python310\\site-packages (1.34.137)\n",
      "Requirement already satisfied: botocore<1.35.0,>=1.34.137 in c:\\users\\rutuja\\appdata\\roaming\\python\\python310\\site-packages (from boto3) (1.34.137)\n",
      "Requirement already satisfied: jmespath<2.0.0,>=0.7.1 in c:\\programdata\\anaconda3\\lib\\site-packages (from boto3) (0.10.0)\n",
      "Requirement already satisfied: s3transfer<0.11.0,>=0.10.0 in c:\\users\\rutuja\\appdata\\roaming\\python\\python310\\site-packages (from boto3) (0.10.2)\n",
      "Requirement already satisfied: python-dateutil<3.0.0,>=2.1 in c:\\programdata\\anaconda3\\lib\\site-packages (from botocore<1.35.0,>=1.34.137->boto3) (2.8.2)\n",
      "Requirement already satisfied: urllib3!=2.2.0,<3,>=1.25.4 in c:\\programdata\\anaconda3\\lib\\site-packages (from botocore<1.35.0,>=1.34.137->boto3) (1.26.14)\n",
      "Requirement already satisfied: six>=1.5 in c:\\programdata\\anaconda3\\lib\\site-packages (from python-dateutil<3.0.0,>=2.1->botocore<1.35.0,>=1.34.137->boto3) (1.16.0)\n"
     ]
    },
    {
     "name": "stderr",
     "output_type": "stream",
     "text": [
      "\n",
      "[notice] A new release of pip is available: 23.3.1 -> 24.2\n",
      "[notice] To update, run: python.exe -m pip install --upgrade pip\n"
     ]
    }
   ],
   "source": [
    "!pip install boto3"
   ]
  },
  {
   "cell_type": "code",
   "execution_count": 3,
   "id": "69af77b6",
   "metadata": {},
   "outputs": [
    {
     "name": "stdout",
     "output_type": "stream",
     "text": [
      "Defaulting to user installation because normal site-packages is not writeable\n",
      "Requirement already satisfied: python-dotenv in c:\\users\\rutuja\\appdata\\roaming\\python\\python310\\site-packages (1.0.1)\n"
     ]
    },
    {
     "name": "stderr",
     "output_type": "stream",
     "text": [
      "\n",
      "[notice] A new release of pip is available: 23.3.1 -> 24.2\n",
      "[notice] To update, run: python.exe -m pip install --upgrade pip\n"
     ]
    }
   ],
   "source": [
    "!pip install python-dotenv"
   ]
  },
  {
   "cell_type": "code",
   "execution_count": 4,
   "id": "84a5662d",
   "metadata": {},
   "outputs": [],
   "source": [
    "import os\n",
    "from dotenv import load_dotenv\n",
    "\n",
    "# Load environment variables from .env file\n",
    "load_dotenv()\n",
    "\n",
    "# Access the environment variables\n",
    "aws_access_key_id = os.getenv('AWS_ACCESS_KEY_ID')\n",
    "aws_secret_access_key = os.getenv('AWS_SECRET_ACCESS_KEY')\n",
    "aws_region = os.getenv('AWS_DEFAULT_REGION')\n"
   ]
  },
  {
   "cell_type": "markdown",
   "id": "a6f1888d",
   "metadata": {},
   "source": [
    "# Upload generated transaction data csv in S3"
   ]
  },
  {
   "cell_type": "code",
   "execution_count": 13,
   "id": "26f41c37",
   "metadata": {
    "scrolled": true
   },
   "outputs": [
    {
     "name": "stdout",
     "output_type": "stream",
     "text": [
      "Bucket transactionsdata0597 already exists.\n",
      "File transaction_data\\transactions_20240806.csv uploaded to bucket transactionsdata0597 as transactions_20240806.csv.\n"
     ]
    }
   ],
   "source": [
    "import boto3\n",
    "from botocore.exceptions import ClientError\n",
    "bucket_name = 'transactionsdata0597'\n",
    "region_name = aws_region\n",
    "\n",
    "s3_client = boto3.client('s3',aws_access_key_id=aws_access_key_id,aws_secret_access_key=aws_secret_access_key)\n",
    "\n",
    "try:\n",
    "    s3_client.head_bucket(Bucket=bucket_name)\n",
    "    print(f'Bucket {bucket_name} already exists.')\n",
    "except ClientError as e:\n",
    "    if e.response['Error']['Code'] == '404':\n",
    "        # Bucket does not exist, create it\n",
    "        try:\n",
    "            s3_client.create_bucket(Bucket=bucket_name)\n",
    "            print(f'Bucket {bucket_name} created successfully.')\n",
    "        except ClientError as create_error:\n",
    "            print(f'Error creating bucket: {create_error}')\n",
    "    else:\n",
    "        print(f'Error checking bucket: {e}')\n",
    "\n",
    "# Upload the CSV file to the S3 bucket\n",
    "file_name = filename  # Use the file path from above\n",
    "object_name = os.path.basename(file_name)  # The object name in S3 will be the same as the file name\n",
    "\n",
    "# Upload the file\n",
    "try:\n",
    "    s3_client.upload_file(file_name, bucket_name, object_name)\n",
    "    print(f'File {file_name} uploaded to bucket {bucket_name} as {object_name}.')\n",
    "except ClientError as e:\n",
    "    print(f'Error uploading file: {e}')"
   ]
  },
  {
   "cell_type": "code",
   "execution_count": 16,
   "id": "bd70bed9",
   "metadata": {},
   "outputs": [
    {
     "name": "stdout",
     "output_type": "stream",
     "text": [
      "RDS instance 'customersdata0597' already exists.\n"
     ]
    }
   ],
   "source": [
    "import boto3\n",
    "from botocore.exceptions import ClientError\n",
    "\n",
    "# Replace with your AWS credentials profile or remove if using default credentials\n",
    "# boto3.setup_default_session(profile_name='your_profile_name')\n",
    "\n",
    "# Initialize the RDS client\n",
    "client = boto3.client('rds', region_name='us-east-1',aws_access_key_id=aws_access_key_id,aws_secret_access_key=aws_secret_access_key)  # Replace with your preferred region\n",
    "\n",
    "# Define parameters for the RDS instance\n",
    "db_instance_identifier = 'customersdata0597'\n",
    "db_name = 'customersdata0597'\n",
    "db_master_username = 'rutuja'\n",
    "db_master_password = 'rutuja051997'\n",
    "db_instance_class = 'db.t3.micro'  # Replace with your preferred instance class\n",
    "engine = 'mysql'\n",
    "allocated_storage = 20  # Replace with your preferred storage size in GB\n",
    "\n",
    "# Function to check if the RDS instance exists\n",
    "def check_db_instance_exists(db_instance_identifier):\n",
    "    try:\n",
    "        response = client.describe_db_instances(DBInstanceIdentifier=db_instance_identifier)\n",
    "        if response['DBInstances']:\n",
    "            return True\n",
    "    except ClientError as e:\n",
    "        if 'DBInstanceNotFound' in str(e):\n",
    "            return False\n",
    "        else:\n",
    "            print(\"Error describing DB instance:\", e)\n",
    "            raise e\n",
    "\n",
    "# Function to create the RDS instance\n",
    "def create_db_instance():\n",
    "    try:\n",
    "        response = client.create_db_instance(\n",
    "            DBInstanceIdentifier=db_instance_identifier,\n",
    "            DBName=db_name,\n",
    "            AllocatedStorage=allocated_storage,\n",
    "            DBInstanceClass=db_instance_class,\n",
    "            Engine=engine,\n",
    "            MasterUsername=db_master_username,\n",
    "            MasterUserPassword=db_master_password,\n",
    "            PubliclyAccessible=True,  # Adjust based on your security needs\n",
    "            Tags=[\n",
    "                {\n",
    "                    'Key': 'Name',\n",
    "                    'Value': 'YourRDSInstance'\n",
    "                },\n",
    "            ]\n",
    "        )\n",
    "        print(f\"Creating RDS instance '{db_instance_identifier}'...\")\n",
    "        print(\"Response:\", response)\n",
    "    except Exception as e:\n",
    "        print(\"Error creating RDS instance:\", e)\n",
    "\n",
    "# Check if the RDS instance already exists\n",
    "if not check_db_instance_exists(db_instance_identifier):\n",
    "    create_db_instance()\n",
    "    print(f\"RDS instance '{db_instance_identifier}' does not exist. Creating a new instance.\")\n",
    "else:\n",
    "    print(f\"RDS instance '{db_instance_identifier}' already exists.\")\n",
    "\n",
    "# Wait for the DB instance to be available\n",
    "if not check_db_instance_exists(db_instance_identifier):\n",
    "    waiter = client.get_waiter('db_instance_available')\n",
    "    print(f\"Waiting for RDS instance '{db_instance_identifier}' to be available...\")\n",
    "    waiter.wait(DBInstanceIdentifier=db_instance_identifier)\n",
    "    print(f\"RDS instance '{db_instance_identifier}' is now available.\")"
   ]
  },
  {
   "cell_type": "code",
   "execution_count": 15,
   "id": "4c2b4218",
   "metadata": {},
   "outputs": [
    {
     "name": "stdout",
     "output_type": "stream",
     "text": [
      "Defaulting to user installation because normal site-packages is not writeable\n",
      "Requirement already satisfied: mysql-connector-python in c:\\users\\rutuja\\appdata\\roaming\\python\\python310\\site-packages (9.0.0)\n"
     ]
    },
    {
     "name": "stderr",
     "output_type": "stream",
     "text": [
      "\n",
      "[notice] A new release of pip is available: 23.3.1 -> 24.2\n",
      "[notice] To update, run: python.exe -m pip install --upgrade pip\n"
     ]
    }
   ],
   "source": [
    "!pip install mysql-connector-python"
   ]
  },
  {
   "cell_type": "code",
   "execution_count": 22,
   "id": "c1dc302e",
   "metadata": {},
   "outputs": [
    {
     "name": "stdout",
     "output_type": "stream",
     "text": [
      "Connected to MySQL database\n",
      "Table 'aggregated_transactions' created successfully\n"
     ]
    }
   ],
   "source": [
    "import mysql.connector\n",
    "from mysql.connector import Error\n",
    "\n",
    "# Replace with your RDS endpoint, database name, username, and password\n",
    "endpoint = 'customersdata0597.crwyyk44cd2p.us-east-1.rds.amazonaws.com'\n",
    "db_name = 'customersdata0597'\n",
    "db_user = 'rutuja'\n",
    "db_password = 'rutuja051997'\n",
    "\n",
    "# Initialize connection and cursor to None\n",
    "conn = None\n",
    "cursor = None\n",
    "\n",
    "# Establish connection\n",
    "try:\n",
    "    conn = mysql.connector.connect(\n",
    "        host=endpoint,\n",
    "        database=db_name,\n",
    "        user=db_user,\n",
    "        password=db_password\n",
    "    )\n",
    "    if conn.is_connected():\n",
    "        print(\"Connected to MySQL database\")\n",
    "except Error as e:\n",
    "    print(f\"Error connecting to MySQL database: {e}\")\n",
    "\n",
    "# Create table for aggregated transaction data\n",
    "if conn and conn.is_connected():\n",
    "    try:\n",
    "        cursor = conn.cursor()\n",
    "\n",
    "        # Define the SQL query to create the table\n",
    "        create_table_query = \"\"\"\n",
    "        CREATE TABLE IF NOT EXISTS aggregated_transactions (\n",
    "            customer_id INT NOT NULL,\n",
    "            debit_card_number VARCHAR(16) NOT NULL,\n",
    "            bank_name VARCHAR(100),\n",
    "            total_amount_spend DECIMAL(10, 2),\n",
    "            PRIMARY KEY (customer_id)\n",
    "     \n",
    "        )\n",
    "        \"\"\"\n",
    "\n",
    "        # Execute the query\n",
    "        cursor.execute(create_table_query)\n",
    "        conn.commit()\n",
    "\n",
    "        print(\"Table 'aggregated_transactions' created successfully\")\n",
    "    except Error as e:\n",
    "        print(f\"Error creating table: {e}\")\n",
    "    finally:\n",
    "        # Ensure the cursor and connection are closed properly\n",
    "        if cursor:\n",
    "            cursor.close()\n",
    "        if conn:\n",
    "            conn.close()\n",
    "else:\n",
    "    print(\"Connection to the database was not established.\")"
   ]
  },
  {
   "cell_type": "code",
   "execution_count": 23,
   "id": "9720ecb2",
   "metadata": {},
   "outputs": [
    {
     "name": "stdout",
     "output_type": "stream",
     "text": [
      "Uploaded data_aggregation_script.py to bucket transactionsdata0597 as data_aggregation_script.py\n"
     ]
    }
   ],
   "source": [
    "local_script_path = 'data_aggregation_script.py'  # Path to your local script\n",
    "s3_bucket_name = 'transactionsdata0597'\n",
    "s3_key = 'data_aggregation_script.py'  # Key or filename in S3\n",
    "\n",
    "# Upload the file\n",
    "try:\n",
    "    s3_client.upload_file(local_script_path, s3_bucket_name, s3_key)\n",
    "    print(f\"Uploaded {local_script_path} to bucket {s3_bucket_name} as {s3_key}\")\n",
    "except Exception as e:\n",
    "    print(f\"Error uploading file: {str(e)}\")"
   ]
  },
  {
   "cell_type": "code",
   "execution_count": null,
   "id": "f60e4cd7",
   "metadata": {},
   "outputs": [],
   "source": []
  },
  {
   "cell_type": "code",
   "execution_count": 30,
   "id": "eb573338",
   "metadata": {},
   "outputs": [
    {
     "name": "stdout",
     "output_type": "stream",
     "text": [
      "Glue job 'DataAggregationJob1' created successfully.\n",
      "Trigger 'DailyTrigger' created successfully.\n",
      "Error starting job run: An error occurred (ConcurrentRunsExceededException) when calling the StartJobRun operation: Concurrent runs exceeded for DataAggregationJob1\n"
     ]
    }
   ],
   "source": [
    "# Initialize Glue client\n",
    "glue_client = boto3.client('glue',aws_access_key_id=aws_access_key_id,aws_secret_access_key=aws_secret_access_key)\n",
    "\n",
    "# Specify your Glue script location in S3\n",
    "s3_bucket = 'transactionsdata0597'\n",
    "script_name = 'data_aggregation_script.py'\n",
    "s3_script_path = f's3://{s3_bucket}/{script_name}'\n",
    "\n",
    "# Define job parameters\n",
    "job_name = 'DataAggregationJob1'\n",
    "role_name = 'arn:aws:iam::025066257198:role/glue-role-for-etl'  # Update with your Glue service role ARN\n",
    "\n",
    "# Create a Glue job\n",
    "try:\n",
    "    response = glue_client.create_job(\n",
    "        Name=job_name,\n",
    "        Role=role_name,\n",
    "        Command={\n",
    "            'Name': 'glueetl',\n",
    "            'ScriptLocation': s3_script_path,\n",
    "            'PythonVersion': '3'\n",
    "        },\n",
    "        DefaultArguments={\n",
    "            '--job-bookmark-option': 'job-bookmark-enable'\n",
    "        },\n",
    "        ExecutionProperty={\n",
    "            'MaxConcurrentRuns': 1\n",
    "        },\n",
    "        MaxRetries=0,\n",
    "        Timeout=2880,\n",
    "        GlueVersion='2.0',  # Replace with appropriate Glue version\n",
    "        Tags={\n",
    "            'Environment': 'Production'\n",
    "        }\n",
    "    )\n",
    "    print(f\"Glue job '{job_name}' created successfully.\")\n",
    "except Exception as e:\n",
    "    print(f\"Error creating Glue job: {str(e)}\")\n",
    "\n",
    "# Add a trigger if needed (e.g., schedule daily execution)\n",
    "try:\n",
    "    response = glue_client.create_trigger(\n",
    "        Name='DailyTrigger1',\n",
    "        Type='SCHEDULED',\n",
    "        Schedule='cron(0 0 * * ? *)',  # Example: runs daily at midnight UTC\n",
    "        Actions=[\n",
    "            {\n",
    "                'JobName': job_name\n",
    "            }\n",
    "        ]\n",
    "    )\n",
    "    print(\"Trigger 'DailyTrigger' created successfully.\")\n",
    "except Exception as e:\n",
    "    print(f\"Error creating trigger: {str(e)}\")\n",
    "\n",
    "# Start the Glue job (optional, if you want to run it immediately)\n",
    "try:\n",
    "    response = glue_client.start_job_run(\n",
    "        JobName=job_name\n",
    "    )\n",
    "    print(f\"Started job run for '{job_name}'\")\n",
    "except Exception as e:\n",
    "    print(f\"Error starting job run: {str(e)}\")"
   ]
  },
  {
   "cell_type": "code",
   "execution_count": null,
   "id": "570d075e",
   "metadata": {},
   "outputs": [],
   "source": []
  }
 ],
 "metadata": {
  "kernelspec": {
   "display_name": "Python 3 (ipykernel)",
   "language": "python",
   "name": "python3"
  },
  "language_info": {
   "codemirror_mode": {
    "name": "ipython",
    "version": 3
   },
   "file_extension": ".py",
   "mimetype": "text/x-python",
   "name": "python",
   "nbconvert_exporter": "python",
   "pygments_lexer": "ipython3",
   "version": "3.10.9"
  }
 },
 "nbformat": 4,
 "nbformat_minor": 5
}
